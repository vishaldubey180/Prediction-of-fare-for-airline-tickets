{
 "cells": [
  {
   "cell_type": "markdown",
   "metadata": {},
   "source": [
    "Life cycle \n",
    "\n",
    "in life cycle first we understand the use case\n",
    "suppose my usecase is that we  have to predict that if person is diabetic or not \n",
    "\n",
    "now we need some data \n",
    "\n",
    "so the second step is all about business understanding where we will understand the business or we can say that how we are going to gather all requirements to collect the data \n",
    "\n",
    "someone known as Business analyst and domain experties will help in collection of data\n",
    "\n",
    "so BA and domain experties will send all the requirements to data analyst so data analyst will analyse and will give some amazing insights so that we can represent ito to stakeholders \n",
    "\n",
    "data analyst and data scientist will talk to business analyst and domain experties that from where they can extract the data (ex from some third party APIs or from some databases )\n",
    "\n",
    "Once the data will collected then it will get transfer to someone known as big data engineer \n",
    "\n",
    "big data engineer will receive all the raw data from different sources and it will do some kind of transformation on that data that is data transformation and give some quality to that data \n",
    "\n",
    "then he will send this data to someone known as data scientist \n",
    "\n",
    "then data scientist will check whetehr my data is in correct formate or not because most of the ML algo will not take this data as input to do prediction because our end goal is to predict whether a particular person is diabetic or not \n",
    "\n",
    "so for this we are going to do something know as data cleaning or data wrnagling \n",
    "\n",
    "once we ill clean our data we will do something known as feature enginerring \n",
    "\n",
    "in feature enginerring what we will do is we will try to examine the each and every feature of our data and we will try to convert that feature into right formate so that it will acceptable for our ML algo \n",
    "\n",
    "in feature enginerring we perform multiple operation such as feature encoding etc \n",
    "\n",
    "so in feature encoding what will happen basically let's say we have column in diabetic data as gender whose values are male and female and we know that our ML algo works with only numerical data \n",
    "so anyhow we have to convert this data into numbers which is nothing but fature encoding technique \n",
    "\n",
    "in feature enginerring we have to perform feature selection also \n",
    "\n",
    "in feature selection we have to select some k number of feature from n number feature where k<n\n",
    "\n",
    "suppose i have 100 feature and i have to select those feature that are correlated , that are correlated to my output \n",
    "\n",
    "in feature enginerring we have to select whether my data is imbalance or not \n",
    "\n",
    "let's say in our diabetic data column dibetes contain 900 yes and 100 no out of 1000 so we can see that the ratio is 9:1 so whenever we are going to train our ML algo with this type of data our ML algo gets completely biased towrds the yes because at the time of training our ML algo got 90% yes so in predicton also it will give yes \n",
    "\n",
    "after feature enginerring we will apply ML algorthm on preapred data depending upon what use case we have whetehr we have regression use case whether we have classification use case \n",
    "\n",
    "after applying ML models on our data what we do , we do something called as hyperparameter optimization or we can say we have to hypertune our model \n",
    "\n",
    "why because when we apply some algo to our data it will have some default parameters but that doesne't means that default parameters will give best prediction for all use cases so in that case we have to hypertune our model hyperparameter optimization means finding optimal value for that parameter \n",
    "\n",
    "\n",
    "and at the end ML engineer deploye the model "
   ]
  }
 ],
 "metadata": {
  "kernelspec": {
   "display_name": "Python 3",
   "language": "python",
   "name": "python3"
  },
  "language_info": {
   "codemirror_mode": {
    "name": "ipython",
    "version": 3
   },
   "file_extension": ".py",
   "mimetype": "text/x-python",
   "name": "python",
   "nbconvert_exporter": "python",
   "pygments_lexer": "ipython3",
   "version": "3.7.4"
  }
 },
 "nbformat": 4,
 "nbformat_minor": 2
}
